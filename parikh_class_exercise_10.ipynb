{
  "nbformat": 4,
  "nbformat_minor": 0,
  "metadata": {
    "colab": {
      "provenance": []
    },
    "kernelspec": {
      "name": "python3",
      "display_name": "Python 3"
    },
    "language_info": {
      "name": "python"
    }
  },
  "cells": [
    {
      "cell_type": "code",
      "source": [
        "# Class Exercise:10(Recommendation Systems)\n",
        "# Author:-   Himani Parikh - 1322085\n",
        "# ####################################################################################################################\n",
        "# Date :-   11/29/2022\n",
        "# ##################################################################################################################\n",
        "# Description :-\n",
        "# Working with a Utility Matrix\n",
        "# Consider the following Utility Matrix of Users (rows) and Items (Columns)# Create create the chart a second time, but this time use total crime per city instead of population.\n",
        "#          User 1  User 2  User 3  User 4  User 5\n",
        "# Movie A       5                       5       2\n",
        "# Movie B               4       1       5        \n",
        "# Movie C       2       3       2       1        \n",
        "# Movie D                                       3\n",
        "# Movie E       1       2       5       1        \n",
        "\n",
        "# In Google Colab,\n",
        "# a) Fill in the blank ratings as zeros.  \n",
        "# a) Compute the Cosine Similarity for Each Pair\n",
        "# b) If User 6 entered and rated Movie A = 1, Movie B = 2, and Movie C = 3.  What movies would you recommend to User 6 to watch?  What movies would you NOT recommend.\n",
        "# Repeat:\n",
        "# a) This time use KNN to fill in the blanks\n",
        "# a) Compute the Cosine Similarity for Each Pair\n",
        "# b) If User 6 entered and rated Movie A = 1, Movie B = 2, and Movie C = 3.  What movies would you recommend to User 6 to watch?  What movies would you NOT recommend. ( (A u B) - (A n B) ) / (A u B)\n",
        "# ####################################################################################################################\n",
        "# History:-\n",
        "# Name      Date        Description\n",
        "# Scl       12/02/2022   Completed code for part a and b.\n",
        "# Scl       12/02/2022   completed code for part c\n",
        "# TODO: 0\n",
        "# ####################################################################################################################"
      ],
      "metadata": {
        "id": "Qw55DnD1uU2t"
      },
      "execution_count": null,
      "outputs": []
    },
    {
      "cell_type": "code",
      "execution_count": null,
      "metadata": {
        "id": "2oU6RujtiLe0"
      },
      "outputs": [],
      "source": [
        "import numpy as np\n",
        "import pandas as pd\n",
        "import math\n",
        "\n",
        "from sklearn.impute import KNNImputer\n",
        "\n",
        "DECIMAL_PLACES = 3"
      ]
    },
    {
      "cell_type": "code",
      "source": [
        "def f_loadDataForFiveUsers():\n",
        "  user1 = [5,  \"\", 2, \"\", 1]\n",
        "  user2 = [\"\", 4, 3, \"\", 2]\n",
        "  user3 = [\"\", 1, 2, \"\", 5]\n",
        "  user4 = [3, 5, 1, \"\", 1]\n",
        "  user5 = [2, \"\", \"\", 3, \"\"]\n",
        "  df = pd.DataFrame(zip(user1, user2, user3, user4, user5),\n",
        "                    index= ['Movie A','Movie B','Movie C','Movie D','Movie E'], \n",
        "                    columns=['User 1','User 2','User 3','User 4','User 5'])\n",
        "  return df"
      ],
      "metadata": {
        "id": "n5__tO1mG3ke"
      },
      "execution_count": null,
      "outputs": []
    },
    {
      "cell_type": "code",
      "source": [
        "def f_loadDataForSixUsers():\n",
        "  u1 = [5, \"\", 2]\n",
        "  u2 = [\"\", 4, 3]\n",
        "  u3 = [\"\", 1, 2]\n",
        "  u4 = [3, 5, 1]\n",
        "  u5 = [2, \"\", \"\"]\n",
        "  u6 = [1, 2, 3]\n",
        "  df = pd.DataFrame(zip(u1, u2, u3, u4, u5, u6), \n",
        "                    index= ['Movie A','Movie B','Movie C'], \n",
        "                    columns=['User 1','User 2','User 3','User 4','User 5', 'User 6'])\n",
        "  return df"
      ],
      "metadata": {
        "id": "FNvYSmH4NJoE"
      },
      "execution_count": null,
      "outputs": []
    },
    {
      "cell_type": "code",
      "source": [
        "def f_impute_missing_value(df):\n",
        "  df = df.replace(\"\", 0, regex=True)\n",
        "  return df"
      ],
      "metadata": {
        "id": "rfJckceVkxcG"
      },
      "execution_count": null,
      "outputs": []
    },
    {
      "cell_type": "code",
      "source": [
        "def f_impute_missing_values_KNN(df, movie_type):\n",
        "  imputer = KNNImputer(n_neighbors=4)\n",
        "  if movie_type == 5:\n",
        "    df = pd.DataFrame(imputer.fit_transform(df),\n",
        "                    index= ['Movie A','Movie B','Movie C','Movie D','Movie E'],\n",
        "                    columns = df.columns)\n",
        "  elif movie_type == 3:\n",
        "    df = pd.DataFrame(imputer.fit_transform(df),\n",
        "                    index= ['Movie A','Movie B','Movie C'],\n",
        "                    columns = df.columns)\n",
        "  return df"
      ],
      "metadata": {
        "id": "1zOpfbiBg0vZ"
      },
      "execution_count": null,
      "outputs": []
    },
    {
      "cell_type": "code",
      "source": [
        "def f_calc_magnitude(vector):\n",
        "  return math.sqrt(sum(pow(element, 2) for element in vector))"
      ],
      "metadata": {
        "id": "jjDWRwIElnwH"
      },
      "execution_count": null,
      "outputs": []
    },
    {
      "cell_type": "code",
      "source": [
        "def f_calc_cosine(list1, list2):\n",
        "  dotproduct = np.dot(list1, list2)\n",
        "  list1_mag = f_calc_magnitude(list1)\n",
        "  list2_mag = f_calc_magnitude(list2)\n",
        "  cos = dotproduct / (list1_mag * list2_mag)\n",
        "  return np.round(cos,DECIMAL_PLACES)"
      ],
      "metadata": {
        "id": "8NToxY01l0TK"
      },
      "execution_count": null,
      "outputs": []
    },
    {
      "cell_type": "code",
      "source": [
        "def f_cosine_similarity_for_all_users(df):\n",
        "  columns = list(df)\n",
        "  v=0\n",
        "  for i in df:\n",
        "    v=v+1\n",
        "    for j in columns[v: ]:\n",
        "      print(\"{} = {}\".format(i, list(df[i])))\n",
        "      print(\"{} = {}\".format(j, list(df[j])))\n",
        "      cosine = f_calc_cosine(df[i], df[j])\n",
        "      print(\"Cosine Similarity between {} and {} is {}\".format(i, j, cosine))\n",
        "    print(\" \")"
      ],
      "metadata": {
        "id": "Yo0U5P8_of-J"
      },
      "execution_count": null,
      "outputs": []
    },
    {
      "cell_type": "code",
      "source": [
        "# Part A and B\n",
        "def main_a():\n",
        "  df=f_loadDataForFiveUsers()\n",
        "  print(\"*************************************************************************\")\n",
        "  print(df)\n",
        "  #Part-a Fill in the blank ratings as zeros.\n",
        "  print(\"*********************Fill Blanks - Zeros*************************************\") \n",
        "  df = f_impute_missing_value(df)\n",
        "  print(df)\n",
        "  #Part a-1 Compute the Cosine Similarity for Each Pair\n",
        "  print(\"***********************Similarity****************************************\")\n",
        "  f_cosine_similarity_for_all_users(df)\n",
        "  print(\"*************************END*********************************************\")"
      ],
      "metadata": {
        "id": "li6kfLKHtvw4"
      },
      "execution_count": null,
      "outputs": []
    },
    {
      "cell_type": "code",
      "source": [
        "main_a()"
      ],
      "metadata": {
        "colab": {
          "base_uri": "https://localhost:8080/"
        },
        "id": "OCOaLZO6wckI",
        "outputId": "48d0a0a6-a368-49bf-b8e2-a2a2179168b4"
      },
      "execution_count": null,
      "outputs": [
        {
          "output_type": "stream",
          "name": "stdout",
          "text": [
            "*************************************************************************\n",
            "        User 1 User 2 User 3 User 4 User 5\n",
            "Movie A      5                    3      2\n",
            "Movie B             4      1      5       \n",
            "Movie C      2      3      2      1       \n",
            "Movie D                                  3\n",
            "Movie E      1      2      5      1       \n",
            "*********************Fill Blanks - Zeros*************************************\n",
            "         User 1  User 2  User 3  User 4  User 5\n",
            "Movie A       5       0       0       3       2\n",
            "Movie B       0       4       1       5       0\n",
            "Movie C       2       3       2       1       0\n",
            "Movie D       0       0       0       0       3\n",
            "Movie E       1       2       5       1       0\n",
            "***********************Similarity****************************************\n",
            "User 1 = [5, 0, 2, 0, 1]\n",
            "User 2 = [0, 4, 3, 0, 2]\n",
            "Cosine Similarity between User 1 and User 2 is 0.271\n",
            "User 1 = [5, 0, 2, 0, 1]\n",
            "User 3 = [0, 1, 2, 0, 5]\n",
            "Cosine Similarity between User 1 and User 3 is 0.3\n",
            "User 1 = [5, 0, 2, 0, 1]\n",
            "User 4 = [3, 5, 1, 0, 1]\n",
            "Cosine Similarity between User 1 and User 4 is 0.548\n",
            "User 1 = [5, 0, 2, 0, 1]\n",
            "User 5 = [2, 0, 0, 3, 0]\n",
            "Cosine Similarity between User 1 and User 5 is 0.506\n",
            " \n",
            "User 2 = [0, 4, 3, 0, 2]\n",
            "User 3 = [0, 1, 2, 0, 5]\n",
            "Cosine Similarity between User 2 and User 3 is 0.678\n",
            "User 2 = [0, 4, 3, 0, 2]\n",
            "User 4 = [3, 5, 1, 0, 1]\n",
            "Cosine Similarity between User 2 and User 4 is 0.774\n",
            "User 2 = [0, 4, 3, 0, 2]\n",
            "User 5 = [2, 0, 0, 3, 0]\n",
            "Cosine Similarity between User 2 and User 5 is 0.0\n",
            " \n",
            "User 3 = [0, 1, 2, 0, 5]\n",
            "User 4 = [3, 5, 1, 0, 1]\n",
            "Cosine Similarity between User 3 and User 4 is 0.365\n",
            "User 3 = [0, 1, 2, 0, 5]\n",
            "User 5 = [2, 0, 0, 3, 0]\n",
            "Cosine Similarity between User 3 and User 5 is 0.0\n",
            " \n",
            "User 4 = [3, 5, 1, 0, 1]\n",
            "User 5 = [2, 0, 0, 3, 0]\n",
            "Cosine Similarity between User 4 and User 5 is 0.277\n",
            " \n",
            " \n",
            "*************************END*********************************************\n"
          ]
        }
      ]
    },
    {
      "cell_type": "code",
      "source": [
        "# Part B\n",
        "def main_b():\n",
        "  df = f_loadDataForSixUsers()\n",
        "  print(df)\n",
        "  print(\"*********************Fill Blanks - Zeros*************************************\") \n",
        "  df = f_impute_missing_value(df)\n",
        "  print(df)\n",
        "  print(\"***********************Similarity****************************************\")\n",
        "  f_cosine_similarity_for_all_users(df)\n",
        "  print(\"*************************END*********************************************\")\n",
        "\n",
        "#Part C- Answer: Since User 6 and User 3 similarity index is highest(0.956) that's why \n",
        "#User 6 should watch Movie E\n",
        "#User 6 should not watch Movie B, Movie C"
      ],
      "metadata": {
        "id": "95jsMERT1XFI"
      },
      "execution_count": null,
      "outputs": []
    },
    {
      "cell_type": "code",
      "source": [
        "main_b()"
      ],
      "metadata": {
        "colab": {
          "base_uri": "https://localhost:8080/"
        },
        "id": "vOhUXPi91c4_",
        "outputId": "fa4238e6-79a3-437b-982d-006883c548e6"
      },
      "execution_count": null,
      "outputs": [
        {
          "output_type": "stream",
          "name": "stdout",
          "text": [
            "        User 1 User 2 User 3  User 4 User 5  User 6\n",
            "Movie A      5                     3      2       1\n",
            "Movie B             4      1       5              2\n",
            "Movie C      2      3      2       1              3\n",
            "*********************Fill Blanks - Zeros*************************************\n",
            "         User 1  User 2  User 3  User 4  User 5  User 6\n",
            "Movie A       5       0       0       3       2       1\n",
            "Movie B       0       4       1       5       0       2\n",
            "Movie C       2       3       2       1       0       3\n",
            "***********************Similarity****************************************\n",
            "User 1 = [5, 0, 2]\n",
            "User 2 = [0, 4, 3]\n",
            "Cosine Similarity between User 1 and User 2 is 0.223\n",
            "User 1 = [5, 0, 2]\n",
            "User 3 = [0, 1, 2]\n",
            "Cosine Similarity between User 1 and User 3 is 0.332\n",
            "User 1 = [5, 0, 2]\n",
            "User 4 = [3, 5, 1]\n",
            "Cosine Similarity between User 1 and User 4 is 0.534\n",
            "User 1 = [5, 0, 2]\n",
            "User 5 = [2, 0, 0]\n",
            "Cosine Similarity between User 1 and User 5 is 0.928\n",
            "User 1 = [5, 0, 2]\n",
            "User 6 = [1, 2, 3]\n",
            "Cosine Similarity between User 1 and User 6 is 0.546\n",
            " \n",
            "User 2 = [0, 4, 3]\n",
            "User 3 = [0, 1, 2]\n",
            "Cosine Similarity between User 2 and User 3 is 0.894\n",
            "User 2 = [0, 4, 3]\n",
            "User 4 = [3, 5, 1]\n",
            "Cosine Similarity between User 2 and User 4 is 0.778\n",
            "User 2 = [0, 4, 3]\n",
            "User 5 = [2, 0, 0]\n",
            "Cosine Similarity between User 2 and User 5 is 0.0\n",
            "User 2 = [0, 4, 3]\n",
            "User 6 = [1, 2, 3]\n",
            "Cosine Similarity between User 2 and User 6 is 0.909\n",
            " \n",
            "User 3 = [0, 1, 2]\n",
            "User 4 = [3, 5, 1]\n",
            "Cosine Similarity between User 3 and User 4 is 0.529\n",
            "User 3 = [0, 1, 2]\n",
            "User 5 = [2, 0, 0]\n",
            "Cosine Similarity between User 3 and User 5 is 0.0\n",
            "User 3 = [0, 1, 2]\n",
            "User 6 = [1, 2, 3]\n",
            "Cosine Similarity between User 3 and User 6 is 0.956\n",
            " \n",
            "User 4 = [3, 5, 1]\n",
            "User 5 = [2, 0, 0]\n",
            "Cosine Similarity between User 4 and User 5 is 0.507\n",
            "User 4 = [3, 5, 1]\n",
            "User 6 = [1, 2, 3]\n",
            "Cosine Similarity between User 4 and User 6 is 0.723\n",
            " \n",
            "User 5 = [2, 0, 0]\n",
            "User 6 = [1, 2, 3]\n",
            "Cosine Similarity between User 5 and User 6 is 0.267\n",
            " \n",
            " \n",
            "*************************END*********************************************\n"
          ]
        }
      ]
    },
    {
      "cell_type": "code",
      "source": [
        "# Repeat:\n",
        "# a) This time use KNN to fill in the blanks\n",
        "# a) Compute the Cosine Similarity for Each Pair\n",
        "# b) If User 6 entered and rated Movie A = 1, Movie B = 2, and Movie C = 3.  What movies would you recommend to User 6 to watch?  What movies would you NOT recommend."
      ],
      "metadata": {
        "id": "u3GfSPtQCicb"
      },
      "execution_count": null,
      "outputs": []
    },
    {
      "cell_type": "code",
      "source": [
        "def main_c():\n",
        "  df = f_loadDataForFiveUsers()\n",
        "  print(df)\n",
        "  print(\"*************************After data processing*********************************\")\n",
        "  for i in df:\n",
        "    df[i] = pd.to_numeric(df[i],errors='coerce')\n",
        "  print(df)\n",
        "  print(\"************************Impute-KNN********************************************\")\n",
        "  df = f_impute_missing_values_KNN(df, 5)\n",
        "  print(df)\n",
        "  print(\"***********************Similarity****************************************\")\n",
        "  f_cosine_similarity_for_all_users(df)\n",
        "  print(\"*************************END*********************************************\")"
      ],
      "metadata": {
        "id": "feqJqmstCopW"
      },
      "execution_count": null,
      "outputs": []
    },
    {
      "cell_type": "code",
      "source": [
        "main_c()"
      ],
      "metadata": {
        "colab": {
          "base_uri": "https://localhost:8080/"
        },
        "id": "lKU8KtOPPbKF",
        "outputId": "82704f4b-9e33-4b58-b1a6-58518c53cf28"
      },
      "execution_count": null,
      "outputs": [
        {
          "output_type": "stream",
          "name": "stdout",
          "text": [
            "        User 1 User 2 User 3 User 4 User 5\n",
            "Movie A      5                    3      2\n",
            "Movie B             4      1      5       \n",
            "Movie C      2      3      2      1       \n",
            "Movie D                                  3\n",
            "Movie E      1      2      5      1       \n",
            "*************************After data processing*********************************\n",
            "         User 1  User 2  User 3  User 4  User 5\n",
            "Movie A     5.0     NaN     NaN     3.0     2.0\n",
            "Movie B     NaN     4.0     1.0     5.0     NaN\n",
            "Movie C     2.0     3.0     2.0     1.0     NaN\n",
            "Movie D     NaN     NaN     NaN     NaN     3.0\n",
            "Movie E     1.0     2.0     5.0     1.0     NaN\n",
            "************************Impute-KNN********************************************\n",
            "           User 1  User 2    User 3  User 4  User 5\n",
            "Movie A  5.000000     3.0  2.666667     3.0     2.0\n",
            "Movie B  2.666667     4.0  1.000000     5.0     2.5\n",
            "Movie C  2.000000     3.0  2.000000     1.0     2.5\n",
            "Movie D  2.666667     3.0  2.666667     2.5     3.0\n",
            "Movie E  1.000000     2.0  5.000000     1.0     2.5\n",
            "***********************Similarity****************************************\n",
            "User 1 = [5.0, 2.6666666666666665, 2.0, 2.6666666666666665, 1.0]\n",
            "User 2 = [3.0, 4.0, 3.0, 3.0, 2.0]\n",
            "Cosine Similarity between User 1 and User 2 is 0.914\n",
            "User 1 = [5.0, 2.6666666666666665, 2.0, 2.6666666666666665, 1.0]\n",
            "User 3 = [2.6666666666666665, 1.0, 2.0, 2.6666666666666665, 5.0]\n",
            "Cosine Similarity between User 1 and User 3 is 0.726\n",
            "User 1 = [5.0, 2.6666666666666665, 2.0, 2.6666666666666665, 1.0]\n",
            "User 4 = [3.0, 5.0, 1.0, 2.5, 1.0]\n",
            "Cosine Similarity between User 1 and User 4 is 0.879\n",
            "User 1 = [5.0, 2.6666666666666665, 2.0, 2.6666666666666665, 1.0]\n",
            "User 5 = [2.0, 2.5, 2.5, 3.0, 2.5]\n",
            "Cosine Similarity between User 1 and User 5 is 0.858\n",
            " \n",
            "User 2 = [3.0, 4.0, 3.0, 3.0, 2.0]\n",
            "User 3 = [2.6666666666666665, 1.0, 2.0, 2.6666666666666665, 5.0]\n",
            "Cosine Similarity between User 2 and User 3 is 0.79\n",
            "User 2 = [3.0, 4.0, 3.0, 3.0, 2.0]\n",
            "User 4 = [3.0, 5.0, 1.0, 2.5, 1.0]\n",
            "Cosine Similarity between User 2 and User 4 is 0.931\n",
            "User 2 = [3.0, 4.0, 3.0, 3.0, 2.0]\n",
            "User 5 = [2.0, 2.5, 2.5, 3.0, 2.5]\n",
            "Cosine Similarity between User 2 and User 5 is 0.971\n",
            " \n",
            "User 3 = [2.6666666666666665, 1.0, 2.0, 2.6666666666666665, 5.0]\n",
            "User 4 = [3.0, 5.0, 1.0, 2.5, 1.0]\n",
            "Cosine Similarity between User 3 and User 4 is 0.617\n",
            "User 3 = [2.6666666666666665, 1.0, 2.0, 2.6666666666666665, 5.0]\n",
            "User 5 = [2.0, 2.5, 2.5, 3.0, 2.5]\n",
            "Cosine Similarity between User 3 and User 5 is 0.89\n",
            " \n",
            "User 4 = [3.0, 5.0, 1.0, 2.5, 1.0]\n",
            "User 5 = [2.0, 2.5, 2.5, 3.0, 2.5]\n",
            "Cosine Similarity between User 4 and User 5 is 0.846\n",
            " \n",
            " \n",
            "*************************END*********************************************\n"
          ]
        }
      ]
    },
    {
      "cell_type": "code",
      "source": [
        "def main_d():\n",
        "  df = f_loadDataForSixUsers()\n",
        "  print(df)\n",
        "  print(\"*************************After data processing*********************************\")\n",
        "  for i in df:\n",
        "    df[i] = pd.to_numeric(df[i],errors='coerce')\n",
        "  print(df)\n",
        "  print(\"************************Impute-KNN********************************************\")\n",
        "  df = f_impute_missing_values_KNN(df, 3)\n",
        "  print(df)\n",
        "  print(\"***********************Similarity****************************************\")\n",
        "  f_cosine_similarity_for_all_users(df)\n",
        "  print(\"*************************END*********************************************\")\n",
        "\n",
        "#Part C- Answer: Since User 6 and User 3 similarity index is highest(0.943) that's why \n",
        "#User 6 should watch Movie E\n",
        "#User 6 should not watch Movie B, Movie C"
      ],
      "metadata": {
        "id": "dEsAeipVixcB"
      },
      "execution_count": null,
      "outputs": []
    },
    {
      "cell_type": "code",
      "source": [
        "main_d()"
      ],
      "metadata": {
        "colab": {
          "base_uri": "https://localhost:8080/"
        },
        "id": "wj34fNB8i5dr",
        "outputId": "ae723d61-5aa5-475b-bfc1-f0fea8fdaeb9"
      },
      "execution_count": null,
      "outputs": [
        {
          "output_type": "stream",
          "name": "stdout",
          "text": [
            "        User 1 User 2 User 3  User 4 User 5  User 6\n",
            "Movie A      5                     3      2       1\n",
            "Movie B             4      1       5              2\n",
            "Movie C      2      3      2       1              3\n",
            "*************************After data processing*********************************\n",
            "         User 1  User 2  User 3  User 4  User 5  User 6\n",
            "Movie A     5.0     NaN     NaN       3     2.0       1\n",
            "Movie B     NaN     4.0     1.0       5     NaN       2\n",
            "Movie C     2.0     3.0     2.0       1     NaN       3\n",
            "************************Impute-KNN********************************************\n",
            "         User 1  User 2  User 3  User 4  User 5  User 6\n",
            "Movie A     5.0     3.5     1.5     3.0     2.0     1.0\n",
            "Movie B     3.5     4.0     1.0     5.0     2.0     2.0\n",
            "Movie C     2.0     3.0     2.0     1.0     2.0     3.0\n",
            "***********************Similarity****************************************\n",
            "User 1 = [5.0, 3.5, 2.0]\n",
            "User 2 = [3.5, 4.0, 3.0]\n",
            "Cosine Similarity between User 1 and User 2 is 0.957\n",
            "User 1 = [5.0, 3.5, 2.0]\n",
            "User 3 = [1.5, 1.0, 2.0]\n",
            "Cosine Similarity between User 1 and User 3 is 0.867\n",
            "User 1 = [5.0, 3.5, 2.0]\n",
            "User 4 = [3.0, 5.0, 1.0]\n",
            "Cosine Similarity between User 1 and User 4 is 0.908\n",
            "User 1 = [5.0, 3.5, 2.0]\n",
            "User 5 = [2.0, 2.0, 2.0]\n",
            "Cosine Similarity between User 1 and User 5 is 0.944\n",
            "User 1 = [5.0, 3.5, 2.0]\n",
            "User 6 = [1.0, 2.0, 3.0]\n",
            "Cosine Similarity between User 1 and User 6 is 0.749\n",
            " \n",
            "User 2 = [3.5, 4.0, 3.0]\n",
            "User 3 = [1.5, 1.0, 2.0]\n",
            "Cosine Similarity between User 2 and User 3 is 0.928\n",
            "User 2 = [3.5, 4.0, 3.0]\n",
            "User 4 = [3.0, 5.0, 1.0]\n",
            "Cosine Similarity between User 2 and User 4 is 0.928\n",
            "User 2 = [3.5, 4.0, 3.0]\n",
            "User 5 = [2.0, 2.0, 2.0]\n",
            "Cosine Similarity between User 2 and User 5 is 0.993\n",
            "User 2 = [3.5, 4.0, 3.0]\n",
            "User 6 = [1.0, 2.0, 3.0]\n",
            "Cosine Similarity between User 2 and User 6 is 0.898\n",
            " \n",
            "User 3 = [1.5, 1.0, 2.0]\n",
            "User 4 = [3.0, 5.0, 1.0]\n",
            "Cosine Similarity between User 3 and User 4 is 0.722\n",
            "User 3 = [1.5, 1.0, 2.0]\n",
            "User 5 = [2.0, 2.0, 2.0]\n",
            "Cosine Similarity between User 3 and User 5 is 0.965\n",
            "User 3 = [1.5, 1.0, 2.0]\n",
            "User 6 = [1.0, 2.0, 3.0]\n",
            "Cosine Similarity between User 3 and User 6 is 0.943\n",
            " \n",
            "User 4 = [3.0, 5.0, 1.0]\n",
            "User 5 = [2.0, 2.0, 2.0]\n",
            "Cosine Similarity between User 4 and User 5 is 0.878\n",
            "User 4 = [3.0, 5.0, 1.0]\n",
            "User 6 = [1.0, 2.0, 3.0]\n",
            "Cosine Similarity between User 4 and User 6 is 0.723\n",
            " \n",
            "User 5 = [2.0, 2.0, 2.0]\n",
            "User 6 = [1.0, 2.0, 3.0]\n",
            "Cosine Similarity between User 5 and User 6 is 0.926\n",
            " \n",
            " \n",
            "*************************END*********************************************\n"
          ]
        }
      ]
    }
  ]
}