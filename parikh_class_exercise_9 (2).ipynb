{
  "nbformat": 4,
  "nbformat_minor": 0,
  "metadata": {
    "colab": {
      "provenance": []
    },
    "kernelspec": {
      "name": "python3",
      "display_name": "Python 3"
    },
    "language_info": {
      "name": "python"
    }
  },
  "cells": [
    {
      "cell_type": "code",
      "source": [
        "# Class Exercise:9(Recommendation Systems)\n",
        "# Author:-   Himani Parikh - 1322085\n",
        "# ####################################################################################################################\n",
        "# Date :-   11/29/2022\n",
        "# ##################################################################################################################\n",
        "# Description :-\n",
        "# Working with a Utility Matrix\n",
        "# Consider the following Utility Matrix of Users (rows) and Items (Columns)# Create create the chart a second time, but this time use total crime per city instead of population.\n",
        "#          User 1  User 2  User 3  User 4  User 5\n",
        "# Movie A       5       2       1       5       2\n",
        "# Movie B       5       4       1       5       4\n",
        "# Movie C       2       3       2       1       1\n",
        "# Movie D       2       3       3       5       3\n",
        "# Movie E       1       2       5       1       2\n",
        "\n",
        "# In Google Colab,\n",
        "# a) Compute the Jaccard Similarity (Jaccard Index) between all pairs of users.  Given as: (A n B) / (A u B)\n",
        "# b) Compute the Jaccard Distance (measures the dissimilarity) between all pairs.  Given as ( (A u B) - (A n B) ) / (A u B)\n",
        "# c) If User 6 entered and rated Movie A = 1, Movie B = 2, and Movie C = 3.  What movies would you recommend to User 6 to watch?  What movies would you NOT recommend.\n",
        "# ####################################################################################################################\n",
        "# History:-\n",
        "# Name      Date        Description\n",
        "# scl       11/29/2022   Inital code draft for Jaccard_similarity and Jaccard_dissimilarity.\n",
        "# Scl       12/02/2022   Completed code for part a and b.\n",
        "# Scl       12/02/2022   completed code for part c\n",
        "# TODO: 0\n",
        "# ####################################################################################################################"
      ],
      "metadata": {
        "id": "Qw55DnD1uU2t"
      },
      "execution_count": null,
      "outputs": []
    },
    {
      "cell_type": "code",
      "execution_count": null,
      "metadata": {
        "id": "2oU6RujtiLe0"
      },
      "outputs": [],
      "source": [
        "import numpy as np\n",
        "import pandas as pd\n",
        "\n",
        "DECIMAL_PLACES = 3"
      ]
    },
    {
      "cell_type": "code",
      "source": [
        "def f_calc_jaccard_similarity(set1, set2):\n",
        "  s1 = set(set1)\n",
        "  s2 = set(set2)\n",
        "  nominator = s1.intersection(s2)\n",
        "  denominator = s1.union(s2)\n",
        "  jacc = len(nominator)/len(denominator)\n",
        "  return np.round(jacc,DECIMAL_PLACES)"
      ],
      "metadata": {
        "id": "WsawiYLnjLP7"
      },
      "execution_count": null,
      "outputs": []
    },
    {
      "cell_type": "code",
      "source": [
        "def f_calc_jaccard_distance(set1, set2):\n",
        "  s1 = set(set1)\n",
        "  s2 = set(set2)\n",
        "  union = s1.union(s2)\n",
        "  intersection = s1.intersection(s2)\n",
        "  dis = (len(union) - len(intersection))/len(union)\n",
        "  return np.round(dis,DECIMAL_PLACES)"
      ],
      "metadata": {
        "id": "ov0g_qA7xl2C"
      },
      "execution_count": null,
      "outputs": []
    },
    {
      "cell_type": "code",
      "source": [
        "def f_jaccard_coefficient_of_each_set(df):\n",
        "  columns = list(df)\n",
        "  v=0\n",
        "  for i in df:\n",
        "    v=v+1\n",
        "    for j in columns[v: ]:\n",
        "      print(\"{} = {}\".format(i, list(df[i])))\n",
        "      print(\"{} = {}\".format(j, list(df[j])))\n",
        "      jacc = f_calc_jaccard_similarity(df[i], df[j])\n",
        "      print(\"Jaccard Similarity between {} and {} is {}\".format(i, j, jacc))\n",
        "    print(\" \")"
      ],
      "metadata": {
        "id": "GZu_DDu0z_RI"
      },
      "execution_count": null,
      "outputs": []
    },
    {
      "cell_type": "code",
      "source": [
        "def f_jaccard_distance_of_each_set(df):\n",
        "  columns = list(df)\n",
        "  v=0\n",
        "  for i in df:\n",
        "    v=v+1\n",
        "    for j in columns[v: ]:\n",
        "      print(\"{} = {}\".format(i, list(df[i])))\n",
        "      print(\"{} = {}\".format(j, list(df[j])))\n",
        "      jacc = f_calc_jaccard_distance(df[i], df[j])\n",
        "      print(\"Jaccard Dissimilarity between {} and {} is {}\".format(i, j, jacc))\n",
        "    print(\" \")"
      ],
      "metadata": {
        "id": "j1Nmvu0a0jq_"
      },
      "execution_count": null,
      "outputs": []
    },
    {
      "cell_type": "code",
      "source": [
        "# Part A and B\n",
        "def main():\n",
        "  user1 = [5, 2, 2, 2, 1]\n",
        "  user2 = [2, 4, 3, 3, 2]\n",
        "  user3 = [1, 1, 2, 3, 5]\n",
        "  user4 = [5, 5, 1, 5, 1]\n",
        "  user5 = [2, 4, 1, 3, 2]\n",
        "  df = pd.DataFrame(zip(user1, user2, user3, user4, user5), \n",
        "                    index= ['Movie A','Movie B','Movie C','Movie D','Movie E'], \n",
        "                    columns=['User 1','User 2','User 3','User 4','User 5'])\n",
        "  print(\"*******************************************************************************\")\n",
        "  print(df) \n",
        "  print(\"***********************Similarity****************************************\")\n",
        "  f_jaccard_coefficient_of_each_set(df)\n",
        "  print(\"***********************Dissimilarity****************************************\")\n",
        "  f_jaccard_distance_of_each_set(df)\n",
        "  print(\"*************************END**************************************\")"
      ],
      "metadata": {
        "id": "li6kfLKHtvw4"
      },
      "execution_count": null,
      "outputs": []
    },
    {
      "cell_type": "code",
      "source": [
        "main()"
      ],
      "metadata": {
        "colab": {
          "base_uri": "https://localhost:8080/"
        },
        "id": "OCOaLZO6wckI",
        "outputId": "96577917-4233-4801-818d-e62308ac6470"
      },
      "execution_count": null,
      "outputs": [
        {
          "output_type": "stream",
          "name": "stdout",
          "text": [
            "*********************************************************************************************\n",
            "         User 1  User 2  User 3  User 4  User 5\n",
            "Movie A       5       2       1       5       2\n",
            "Movie B       2       4       1       5       4\n",
            "Movie C       2       3       2       1       1\n",
            "Movie D       2       3       3       5       3\n",
            "Movie E       1       2       5       1       2\n",
            "***********************Similarity****************************************\n",
            "User 1 = [5, 2, 2, 2, 1]\n",
            "User 2 = [2, 4, 3, 3, 2]\n",
            "Jaccard Similarity between User 1 and User 2 is 0.2\n",
            "User 1 = [5, 2, 2, 2, 1]\n",
            "User 3 = [1, 1, 2, 3, 5]\n",
            "Jaccard Similarity between User 1 and User 3 is 0.75\n",
            "User 1 = [5, 2, 2, 2, 1]\n",
            "User 4 = [5, 5, 1, 5, 1]\n",
            "Jaccard Similarity between User 1 and User 4 is 0.667\n",
            "User 1 = [5, 2, 2, 2, 1]\n",
            "User 5 = [2, 4, 1, 3, 2]\n",
            "Jaccard Similarity between User 1 and User 5 is 0.4\n",
            " \n",
            "User 2 = [2, 4, 3, 3, 2]\n",
            "User 3 = [1, 1, 2, 3, 5]\n",
            "Jaccard Similarity between User 2 and User 3 is 0.4\n",
            "User 2 = [2, 4, 3, 3, 2]\n",
            "User 4 = [5, 5, 1, 5, 1]\n",
            "Jaccard Similarity between User 2 and User 4 is 0.0\n",
            "User 2 = [2, 4, 3, 3, 2]\n",
            "User 5 = [2, 4, 1, 3, 2]\n",
            "Jaccard Similarity between User 2 and User 5 is 0.75\n",
            " \n",
            "User 3 = [1, 1, 2, 3, 5]\n",
            "User 4 = [5, 5, 1, 5, 1]\n",
            "Jaccard Similarity between User 3 and User 4 is 0.5\n",
            "User 3 = [1, 1, 2, 3, 5]\n",
            "User 5 = [2, 4, 1, 3, 2]\n",
            "Jaccard Similarity between User 3 and User 5 is 0.6\n",
            " \n",
            "User 4 = [5, 5, 1, 5, 1]\n",
            "User 5 = [2, 4, 1, 3, 2]\n",
            "Jaccard Similarity between User 4 and User 5 is 0.2\n",
            " \n",
            " \n",
            "***********************Dissimilarity****************************************\n",
            "User 1 = [5, 2, 2, 2, 1]\n",
            "User 2 = [2, 4, 3, 3, 2]\n",
            "Jaccard Dissimilarity between User 1 and User 2 is 0.8\n",
            "User 1 = [5, 2, 2, 2, 1]\n",
            "User 3 = [1, 1, 2, 3, 5]\n",
            "Jaccard Dissimilarity between User 1 and User 3 is 0.25\n",
            "User 1 = [5, 2, 2, 2, 1]\n",
            "User 4 = [5, 5, 1, 5, 1]\n",
            "Jaccard Dissimilarity between User 1 and User 4 is 0.333\n",
            "User 1 = [5, 2, 2, 2, 1]\n",
            "User 5 = [2, 4, 1, 3, 2]\n",
            "Jaccard Dissimilarity between User 1 and User 5 is 0.6\n",
            " \n",
            "User 2 = [2, 4, 3, 3, 2]\n",
            "User 3 = [1, 1, 2, 3, 5]\n",
            "Jaccard Dissimilarity between User 2 and User 3 is 0.6\n",
            "User 2 = [2, 4, 3, 3, 2]\n",
            "User 4 = [5, 5, 1, 5, 1]\n",
            "Jaccard Dissimilarity between User 2 and User 4 is 1.0\n",
            "User 2 = [2, 4, 3, 3, 2]\n",
            "User 5 = [2, 4, 1, 3, 2]\n",
            "Jaccard Dissimilarity between User 2 and User 5 is 0.25\n",
            " \n",
            "User 3 = [1, 1, 2, 3, 5]\n",
            "User 4 = [5, 5, 1, 5, 1]\n",
            "Jaccard Dissimilarity between User 3 and User 4 is 0.5\n",
            "User 3 = [1, 1, 2, 3, 5]\n",
            "User 5 = [2, 4, 1, 3, 2]\n",
            "Jaccard Dissimilarity between User 3 and User 5 is 0.4\n",
            " \n",
            "User 4 = [5, 5, 1, 5, 1]\n",
            "User 5 = [2, 4, 1, 3, 2]\n",
            "Jaccard Dissimilarity between User 4 and User 5 is 0.8\n",
            " \n",
            " \n",
            "*************************END**************************************\n"
          ]
        }
      ]
    },
    {
      "cell_type": "code",
      "source": [
        "# Part C\n",
        "def main_c():\n",
        "  user1 = [5, 5, 2]\n",
        "  user2 = [2, 4, 3]\n",
        "  user3 = [1, 1, 2]\n",
        "  user4 = [5, 5, 1]\n",
        "  user5 = [2, 4, 1]\n",
        "  user6 = [1, 2, 3]\n",
        "  df = pd.DataFrame(zip(user1, user2, user3, user4, user5, user6), \n",
        "                    index= ['Movie A','Movie B','Movie C'], \n",
        "                    columns=['User 1','User 2','User 3','User 4','User 5', 'User 6'])\n",
        "  print(\"***************************************************************************\")\n",
        "  print(df)\n",
        "  print(\"***********************Similarity****************************************\")\n",
        "  f_jaccard_coefficient_of_each_set(df)\n",
        "  print(\"***********************Dissimilarity****************************************\")\n",
        "  f_jaccard_distance_of_each_set(df)\n",
        "  print(\"*************************END**************************************\")\n",
        "\n",
        "#Part C- Answer: Since User 6 and User 3 similarity index is highest(0.67) that's why \n",
        "#User 6 should watch Movie E and Movie D\n",
        "#User 6 should not watch Movie A, Movie B, Movie C"
      ],
      "metadata": {
        "id": "95jsMERT1XFI"
      },
      "execution_count": null,
      "outputs": []
    },
    {
      "cell_type": "code",
      "source": [
        "main_c()"
      ],
      "metadata": {
        "colab": {
          "base_uri": "https://localhost:8080/"
        },
        "id": "vOhUXPi91c4_",
        "outputId": "b3e593a4-8578-40ce-d05e-b66955f723c1"
      },
      "execution_count": null,
      "outputs": [
        {
          "output_type": "stream",
          "name": "stdout",
          "text": [
            "***************************************************************************\n",
            "         User 1  User 2  User 3  User 4  User 5  User 6\n",
            "Movie A       5       2       1       5       2       1\n",
            "Movie B       5       4       1       5       4       2\n",
            "Movie C       2       3       2       1       1       3\n",
            "***********************Similarity****************************************\n",
            "User 1 = [5, 5, 2]\n",
            "User 2 = [2, 4, 3]\n",
            "Jaccard Similarity between User 1 and User 2 is 0.25\n",
            "User 1 = [5, 5, 2]\n",
            "User 3 = [1, 1, 2]\n",
            "Jaccard Similarity between User 1 and User 3 is 0.333\n",
            "User 1 = [5, 5, 2]\n",
            "User 4 = [5, 5, 1]\n",
            "Jaccard Similarity between User 1 and User 4 is 0.333\n",
            "User 1 = [5, 5, 2]\n",
            "User 5 = [2, 4, 1]\n",
            "Jaccard Similarity between User 1 and User 5 is 0.25\n",
            "User 1 = [5, 5, 2]\n",
            "User 6 = [1, 2, 3]\n",
            "Jaccard Similarity between User 1 and User 6 is 0.25\n",
            " \n",
            "User 2 = [2, 4, 3]\n",
            "User 3 = [1, 1, 2]\n",
            "Jaccard Similarity between User 2 and User 3 is 0.25\n",
            "User 2 = [2, 4, 3]\n",
            "User 4 = [5, 5, 1]\n",
            "Jaccard Similarity between User 2 and User 4 is 0.0\n",
            "User 2 = [2, 4, 3]\n",
            "User 5 = [2, 4, 1]\n",
            "Jaccard Similarity between User 2 and User 5 is 0.5\n",
            "User 2 = [2, 4, 3]\n",
            "User 6 = [1, 2, 3]\n",
            "Jaccard Similarity between User 2 and User 6 is 0.5\n",
            " \n",
            "User 3 = [1, 1, 2]\n",
            "User 4 = [5, 5, 1]\n",
            "Jaccard Similarity between User 3 and User 4 is 0.333\n",
            "User 3 = [1, 1, 2]\n",
            "User 5 = [2, 4, 1]\n",
            "Jaccard Similarity between User 3 and User 5 is 0.667\n",
            "User 3 = [1, 1, 2]\n",
            "User 6 = [1, 2, 3]\n",
            "Jaccard Similarity between User 3 and User 6 is 0.667\n",
            " \n",
            "User 4 = [5, 5, 1]\n",
            "User 5 = [2, 4, 1]\n",
            "Jaccard Similarity between User 4 and User 5 is 0.25\n",
            "User 4 = [5, 5, 1]\n",
            "User 6 = [1, 2, 3]\n",
            "Jaccard Similarity between User 4 and User 6 is 0.25\n",
            " \n",
            "User 5 = [2, 4, 1]\n",
            "User 6 = [1, 2, 3]\n",
            "Jaccard Similarity between User 5 and User 6 is 0.5\n",
            " \n",
            " \n",
            "***********************Dissimilarity****************************************\n",
            "User 1 = [5, 5, 2]\n",
            "User 2 = [2, 4, 3]\n",
            "Jaccard Dissimilarity between User 1 and User 2 is 0.75\n",
            "User 1 = [5, 5, 2]\n",
            "User 3 = [1, 1, 2]\n",
            "Jaccard Dissimilarity between User 1 and User 3 is 0.667\n",
            "User 1 = [5, 5, 2]\n",
            "User 4 = [5, 5, 1]\n",
            "Jaccard Dissimilarity between User 1 and User 4 is 0.667\n",
            "User 1 = [5, 5, 2]\n",
            "User 5 = [2, 4, 1]\n",
            "Jaccard Dissimilarity between User 1 and User 5 is 0.75\n",
            "User 1 = [5, 5, 2]\n",
            "User 6 = [1, 2, 3]\n",
            "Jaccard Dissimilarity between User 1 and User 6 is 0.75\n",
            " \n",
            "User 2 = [2, 4, 3]\n",
            "User 3 = [1, 1, 2]\n",
            "Jaccard Dissimilarity between User 2 and User 3 is 0.75\n",
            "User 2 = [2, 4, 3]\n",
            "User 4 = [5, 5, 1]\n",
            "Jaccard Dissimilarity between User 2 and User 4 is 1.0\n",
            "User 2 = [2, 4, 3]\n",
            "User 5 = [2, 4, 1]\n",
            "Jaccard Dissimilarity between User 2 and User 5 is 0.5\n",
            "User 2 = [2, 4, 3]\n",
            "User 6 = [1, 2, 3]\n",
            "Jaccard Dissimilarity between User 2 and User 6 is 0.5\n",
            " \n",
            "User 3 = [1, 1, 2]\n",
            "User 4 = [5, 5, 1]\n",
            "Jaccard Dissimilarity between User 3 and User 4 is 0.667\n",
            "User 3 = [1, 1, 2]\n",
            "User 5 = [2, 4, 1]\n",
            "Jaccard Dissimilarity between User 3 and User 5 is 0.333\n",
            "User 3 = [1, 1, 2]\n",
            "User 6 = [1, 2, 3]\n",
            "Jaccard Dissimilarity between User 3 and User 6 is 0.333\n",
            " \n",
            "User 4 = [5, 5, 1]\n",
            "User 5 = [2, 4, 1]\n",
            "Jaccard Dissimilarity between User 4 and User 5 is 0.75\n",
            "User 4 = [5, 5, 1]\n",
            "User 6 = [1, 2, 3]\n",
            "Jaccard Dissimilarity between User 4 and User 6 is 0.75\n",
            " \n",
            "User 5 = [2, 4, 1]\n",
            "User 6 = [1, 2, 3]\n",
            "Jaccard Dissimilarity between User 5 and User 6 is 0.5\n",
            " \n",
            " \n",
            "*************************END**************************************\n"
          ]
        }
      ]
    }
  ]
}