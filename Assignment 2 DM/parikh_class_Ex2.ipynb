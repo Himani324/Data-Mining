{
  "nbformat": 4,
  "nbformat_minor": 0,
  "metadata": {
    "colab": {
      "provenance": []
    },
    "kernelspec": {
      "name": "python3",
      "display_name": "Python 3"
    },
    "language_info": {
      "name": "python"
    }
  },
  "cells": [
    {
      "cell_type": "code",
      "execution_count": 1,
      "metadata": {
        "id": "RtldADAjT2Cc"
      },
      "outputs": [],
      "source": [
        "# Himani Parikh\n",
        "# 9/27/2022\n",
        "# calculate the Jaccs Similarity Coefficient"
      ]
    },
    {
      "cell_type": "code",
      "source": [
        "import pandas as pd\n",
        "import numpy as np\n",
        "\n",
        "C_DECIMAL_PLACES = 3"
      ],
      "metadata": {
        "id": "FO2SZgLJ0q42"
      },
      "execution_count": 2,
      "outputs": []
    },
    {
      "cell_type": "code",
      "source": [
        "set1 = [2, 1, 1, 3]\n",
        "set2 = [5, 3, 1, 3]\n",
        "set3 = [1, 1, 1, 1]\n",
        "set4 = [2, 1, 2, 1]"
      ],
      "metadata": {
        "id": "LECp508q0tiF"
      },
      "execution_count": 3,
      "outputs": []
    },
    {
      "cell_type": "code",
      "source": [
        "def calcjaccard(set1, set2):\n",
        "  s1 = set(set1)\n",
        "  s2 = set(set2)\n",
        "\n",
        "  nominator = s1.intersection(s2)\n",
        "  denominator = s1.union(s2)\n",
        "  jacc = len(nominator)/len(denominator)\n",
        "  \n",
        "  return np.round(jacc,C_DECIMAL_PLACES)\n"
      ],
      "metadata": {
        "id": "5zwYtsBB4Xc6"
      },
      "execution_count": 4,
      "outputs": []
    },
    {
      "cell_type": "code",
      "source": [
        "def jaccs_coefficient_of_each_set():\n",
        "  total_set = ['set1', 'set2', 'set3', 'set4']\n",
        "  for i in total_set:\n",
        "    if i == \"set1\":\n",
        "      jacc = calcjaccard(set1, set2)\n",
        "      print(\"Jaccs Similarity Coefficient of set1 and set2\",jacc)\n",
        "      jacc = calcjaccard(set1, set3)\n",
        "      print(\"Jaccs Similarity Coefficient of set1 and set3\",jacc)\n",
        "      jacc = calcjaccard(set1, set4)\n",
        "      print(\"Jaccs Similarity Coefficient of set1 and set4\",jacc)\n",
        "\n",
        "    if i == \"set2\":\n",
        "      jacc = calcjaccard(set2, set3)\n",
        "      print(\"Jaccs Similarity Coefficient of set2 and set3\",jacc)\n",
        "      jacc = calcjaccard(set2, set4)\n",
        "      print(\"Jaccs Similarity Coefficient of set2 and set4\",jacc)\n",
        "\n",
        "    if i == \"set3\":\n",
        "      jacc = calcjaccard(set3, set4)\n",
        "      print(\"Jaccs Similarity Coefficient of set3 and set4\",jacc)\n",
        "      \n"
      ],
      "metadata": {
        "id": "EJfDvguw_JtM"
      },
      "execution_count": 5,
      "outputs": []
    },
    {
      "cell_type": "code",
      "source": [
        "def main():\n",
        "  df = pd.DataFrame(zip(set1, set2, set3, set4), columns=['Set1','Set2','Set3','Set4'])\n",
        "  df.head()\n",
        "  print(df) \n",
        "\n",
        "  print(\"***************************************************************\")\n",
        "  jaccs_coefficient_of_each_set()"
      ],
      "metadata": {
        "id": "1Qvq4JPz1PcU"
      },
      "execution_count": 6,
      "outputs": []
    },
    {
      "cell_type": "code",
      "source": [
        "main()"
      ],
      "metadata": {
        "colab": {
          "base_uri": "https://localhost:8080/"
        },
        "id": "NWwGnE0M1X5o",
        "outputId": "2f94bc82-ebcf-4af2-a8c4-4650ba7aa1a3"
      },
      "execution_count": 7,
      "outputs": [
        {
          "output_type": "stream",
          "name": "stdout",
          "text": [
            "   Set1  Set2  Set3  Set4\n",
            "0     2     5     1     2\n",
            "1     1     3     1     1\n",
            "2     1     1     1     2\n",
            "3     3     3     1     1\n",
            "***************************************************************\n",
            "Jaccs Similarity Coefficient of set1 and set2 0.5\n",
            "Jaccs Similarity Coefficient of set1 and set3 0.333\n",
            "Jaccs Similarity Coefficient of set1 and set4 0.667\n",
            "Jaccs Similarity Coefficient of set2 and set3 0.333\n",
            "Jaccs Similarity Coefficient of set2 and set4 0.25\n",
            "Jaccs Similarity Coefficient of set3 and set4 0.5\n"
          ]
        }
      ]
    }
  ]
}