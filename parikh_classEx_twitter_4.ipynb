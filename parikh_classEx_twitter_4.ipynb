{
  "nbformat": 4,
  "nbformat_minor": 0,
  "metadata": {
    "colab": {
      "provenance": []
    },
    "kernelspec": {
      "name": "python3",
      "display_name": "Python 3"
    },
    "language_info": {
      "name": "python"
    }
  },
  "cells": [
    {
      "cell_type": "code",
      "source": [
        "# Himani Parikh\n",
        "# Intro to Data Mining\n",
        "# Description: Social Media Data Mining: Using Twitter \n",
        "# History\n",
        "# scl   10/11/2022    Signed up for a developers account with twitter to get access\n",
        "# scl   10/14/2022    Added bearer_token in exisiting file(newTwitter.ipynb)"
      ],
      "metadata": {
        "id": "xkDb2KIHo50f"
      },
      "execution_count": 24,
      "outputs": []
    },
    {
      "cell_type": "code",
      "execution_count": 25,
      "metadata": {
        "id": "dJY2eQB4oh5o"
      },
      "outputs": [],
      "source": [
        "import requests\n",
        "import os\n",
        "import json\n",
        "\n",
        "bearer_token = \"AAAAAAAAAAAAAAAAAAAAAJ2ciAEAAAAAwLy8QsCnn1zjhpUybww0VhJsYM8%3DVvJuUgSB1iXhTPrzpci7Vfmr9uYv4ikSRL5nie0UIALZWjmKG2\"\n",
        "search_url = \"https://api.twitter.com/2/tweets/search/recent\"\n",
        "\n",
        "# Optional params: start_time,end_time,since_id,until_id,max_results,next_token,\n",
        "# expansions,tweet.fields,media.fields,poll.fields,place.fields,user.fields\n",
        "query_params = {'query': '(from:twitterdev -is:retweet) OR #twitterdev','tweet.fields': 'author_id'}"
      ]
    },
    {
      "cell_type": "code",
      "source": [
        "#For bearer token authentication\n",
        "\n",
        "def bearer_oauth(r):\n",
        "  r.headers[\"Authorization\"] = f\"Bearer {bearer_token}\"\n",
        "  r.headers[\"User-Agent\"] = \"v2RecentSearchPython\"\n",
        "  return r\n",
        "\n",
        "def connect_to_endpoint(url, params):\n",
        "    response = requests.get(url, auth=bearer_oauth, params=params)\n",
        "    print(response.status_code)\n",
        "    if response.status_code != 200:     # 200 - successful responses(GET API)\n",
        "        raise Exception(response.status_code, response.text)\n",
        "    return response.json()"
      ],
      "metadata": {
        "id": "vZJws4fnu3rU"
      },
      "execution_count": 26,
      "outputs": []
    },
    {
      "cell_type": "code",
      "source": [
        "def main():\n",
        "    json_response = connect_to_endpoint(search_url, query_params)\n",
        "    print(json.dumps(json_response, indent=4, sort_keys=True))\n",
        "\n",
        "\n",
        "if __name__ == \"__main__\":\n",
        "  main()"
      ],
      "metadata": {
        "colab": {
          "base_uri": "https://localhost:8080/"
        },
        "id": "0dKUV2z-o4tE",
        "outputId": "5f1bfdd8-6872-496d-80d6-03682e3cd71e"
      },
      "execution_count": 27,
      "outputs": [
        {
          "output_type": "stream",
          "name": "stdout",
          "text": [
            "200\n",
            "{\n",
            "    \"data\": [\n",
            "        {\n",
            "            \"author_id\": \"1564526596131885058\",\n",
            "            \"edit_history_tweet_ids\": [\n",
            "                \"1580701870909452290\"\n",
            "            ],\n",
            "            \"id\": \"1580701870909452290\",\n",
            "            \"text\": \"RT @_kato_shinya: #twitter_api_v2 is ready to take things to the next level. This library can be even more amazing :)\\n\\n#Programming #Dart #\\u2026\"\n",
            "        },\n",
            "        {\n",
            "            \"author_id\": \"1570781276\",\n",
            "            \"edit_history_tweet_ids\": [\n",
            "                \"1580431690748395520\"\n",
            "            ],\n",
            "            \"id\": \"1580431690748395520\",\n",
            "            \"text\": \"RT @_kato_shinya: #twitter_api_v2 is ready to take things to the next level. This library can be even more amazing :)\\n\\n#Programming #Dart #\\u2026\"\n",
            "        },\n",
            "        {\n",
            "            \"author_id\": \"1429640861684437002\",\n",
            "            \"edit_history_tweet_ids\": [\n",
            "                \"1580412772407422977\"\n",
            "            ],\n",
            "            \"id\": \"1580412772407422977\",\n",
            "            \"text\": \"#TwitterDev\"\n",
            "        },\n",
            "        {\n",
            "            \"author_id\": \"1288038208408662016\",\n",
            "            \"edit_history_tweet_ids\": [\n",
            "                \"1580362032742035457\"\n",
            "            ],\n",
            "            \"id\": \"1580362032742035457\",\n",
            "            \"text\": \"RT @_kato_shinya: #twitter_api_v2 is ready to take things to the next level. This library can be even more amazing :)\\n\\n#Programming #Dart #\\u2026\"\n",
            "        },\n",
            "        {\n",
            "            \"author_id\": \"1460431590455414785\",\n",
            "            \"edit_history_tweet_ids\": [\n",
            "                \"1580043398974562304\"\n",
            "            ],\n",
            "            \"id\": \"1580043398974562304\",\n",
            "            \"text\": \"#ApplicationReceived\\n#TwitterAPI\\nI applied for being a #TwitterDev and my #ApplicationReceived! I hope I get approved. https://t.co/b1LsOs6KUE\"\n",
            "        },\n",
            "        {\n",
            "            \"author_id\": \"1059961925948317702\",\n",
            "            \"edit_history_tweet_ids\": [\n",
            "                \"1580036138106245120\"\n",
            "            ],\n",
            "            \"id\": \"1580036138106245120\",\n",
            "            \"text\": \"RT @_kato_shinya: #twitter_api_v2 is ready to take things to the next level. This library can be even more amazing :)\\n\\n#Programming #Dart #\\u2026\"\n",
            "        },\n",
            "        {\n",
            "            \"author_id\": \"2244994945\",\n",
            "            \"edit_history_tweet_ids\": [\n",
            "                \"1579864407567261697\"\n",
            "            ],\n",
            "            \"id\": \"1579864407567261697\",\n",
            "            \"text\": \"\\ud83d\\udca1 Tip Tuesday: Having a tough time figuring out what to build? \\ud83e\\udd14\\n\\nCheck out our \\u201cWhat to build\\u201d page for inspiration and a list of relevant endpoints for each use case. \\ud83e\\udd29\\u2b07\\ufe0f\\nhttps://t.co/HTf1zNGRRn\"\n",
            "        },\n",
            "        {\n",
            "            \"author_id\": \"1397197725486227468\",\n",
            "            \"edit_history_tweet_ids\": [\n",
            "                \"1579645167673696257\"\n",
            "            ],\n",
            "            \"id\": \"1579645167673696257\",\n",
            "            \"text\": \"@GradeAacers #twitter_api_v2 is ready to take things to the next level. This library can be even more amazing :)\\n\\n#Programming #Dart #Flutter #Twitter #TwitterAPI #TwitterDev\"\n",
            "        },\n",
            "        {\n",
            "            \"author_id\": \"2244994945\",\n",
            "            \"edit_history_tweet_ids\": [\n",
            "                \"1579592617834459141\"\n",
            "            ],\n",
            "            \"id\": \"1579592617834459141\",\n",
            "            \"text\": \"Tomorrow, October 11, Join @Converseon , @Twitter , and @Mattel as we discuss the power of social data to inform ESG strategy and understand how perceptions of these efforts translate into consumer behavior and business outcomes \\ud83d\\udde3. \\n\\nRegister Here \\ud83d\\udc47:\\nhttps://t.co/2t3saXshX9 https://t.co/juCJEMsU3L\"\n",
            "        },\n",
            "        {\n",
            "            \"author_id\": \"2244994945\",\n",
            "            \"edit_history_tweet_ids\": [\n",
            "                \"1579562419994521600\"\n",
            "            ],\n",
            "            \"id\": \"1579562419994521600\",\n",
            "            \"text\": \"How Publicis uses YouScan to analyze consumer opinions, discover actionable insights and manage brand reputation, to define the 2023 marketing strategy for a major sports brand. \\ud83e\\uddd0\\ud83c\\udfc0\\n\\nRead more \\u2935\\ufe0f\\nhttps://t.co/FY92FT682q https://t.co/E7e51O1q0H\"\n",
            "        }\n",
            "    ],\n",
            "    \"meta\": {\n",
            "        \"newest_id\": \"1580701870909452290\",\n",
            "        \"next_token\": \"b26v89c19zqg8o3fpzbngjnvc77nua35oaml0q7xq9htp\",\n",
            "        \"oldest_id\": \"1579562419994521600\",\n",
            "        \"result_count\": 10\n",
            "    }\n",
            "}\n"
          ]
        }
      ]
    }
  ]
}