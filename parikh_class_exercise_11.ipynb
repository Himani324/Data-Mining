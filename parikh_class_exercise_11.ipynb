{
  "nbformat": 4,
  "nbformat_minor": 0,
  "metadata": {
    "colab": {
      "provenance": []
    },
    "kernelspec": {
      "name": "python3",
      "display_name": "Python 3"
    },
    "language_info": {
      "name": "python"
    }
  },
  "cells": [
    {
      "cell_type": "code",
      "source": [
        "# Class Exercise:11(Recommendation Systems)\n",
        "# Author:-   Himani Parikh - 1322085\n",
        "# *****************************************************************************************************************************\n",
        "# Date :-   12/05/2022\n",
        "# *****************************************************************************************************************************\n",
        "\n",
        "# Description :-\n",
        "\n",
        "# Part-A->Using Cosine with Movie Ratings:\n",
        "# Working with a Utility Matrix\n",
        "# Using Cosine with Movie Ratings:\n",
        "# Starting with this code: CosMovieRatings.ipynb.\n",
        "# Use this Movie File: movie.csv tab.\n",
        "# Decide who is most similar to:\n",
        "# 1. Kate\n",
        "# 2. Mary\n",
        "# \n",
        "# Part-B->Using NMF with Movie Ratings:\n",
        "# Starter Code:sampleNMF.ipynb\n",
        "# Decompose the Movie.CSV ratings into W x H\n",
        "# Then approximate the original matrix and print out the Frobenius norm \n",
        "# *****************************************************************************************************************************\n",
        "# History:-\n",
        "# Name      Date        Description\n",
        "# Scl       12/03/2022  FInished coding part A (cosine similarity)\n",
        "# Scl       12/05/2022  FInished coding part B (Using NMF) \n",
        "# TODO: 0\n",
        "# *****************************************************************************************************************************"
      ],
      "metadata": {
        "id": "-eoLO1FEGAfp"
      },
      "execution_count": 50,
      "outputs": []
    },
    {
      "cell_type": "code",
      "metadata": {
        "id": "u7nNwu8ARqOW"
      },
      "source": [
        "import pandas as pd\n",
        "import numpy as np\n",
        "import math\n",
        "import os\n",
        "\n",
        "from google.colab import drive\n",
        "from sklearn.decomposition import NMF\n",
        "\n",
        "DECIMAL_PLACES = 2"
      ],
      "execution_count": 51,
      "outputs": []
    },
    {
      "cell_type": "code",
      "source": [
        "drive.mount('/content/drive')\n",
        "location ='drive/MyDrive/Data/'\n",
        "list_of_files = os.listdir(location)"
      ],
      "metadata": {
        "colab": {
          "base_uri": "https://localhost:8080/"
        },
        "id": "Xiep7xAa2EIb",
        "outputId": "18cb451f-3469-4f6f-84a7-ed61d625ae5b"
      },
      "execution_count": 52,
      "outputs": [
        {
          "output_type": "stream",
          "name": "stdout",
          "text": [
            "Drive already mounted at /content/drive; to attempt to forcibly remount, call drive.mount(\"/content/drive\", force_remount=True).\n"
          ]
        }
      ]
    },
    {
      "cell_type": "code",
      "source": [
        "def f_readData(p, f):\n",
        "  data = pd.read_csv(p+f)\n",
        "  return data"
      ],
      "metadata": {
        "id": "fN8Y4N3wxSPf"
      },
      "execution_count": 53,
      "outputs": []
    },
    {
      "cell_type": "code",
      "source": [
        "def f_prepareData(df):\n",
        "  name=list(df['Name'])\n",
        "  data = df.drop(columns=['Name'])\n",
        "  df = pd.DataFrame(zip(list(data.iloc[0]), list(data.iloc[1]),\n",
        "                    list(data.iloc[2]), list(data.iloc[3]),\n",
        "                    list(data.iloc[4]), list(data.iloc[5])), \n",
        "                    index= ['Movie 1','Movie 2','Movie 3', 'Movie 4', 'Movie 5'], \n",
        "                    columns=name)\n",
        "  return df"
      ],
      "metadata": {
        "id": "9PelKgCJAl3j"
      },
      "execution_count": 54,
      "outputs": []
    },
    {
      "cell_type": "code",
      "source": [
        "def f_calc_magnitude(vector):\n",
        "  return math.sqrt(sum(pow(element, 2) for element in vector))"
      ],
      "metadata": {
        "id": "d0uvLtBy__gw"
      },
      "execution_count": 55,
      "outputs": []
    },
    {
      "cell_type": "code",
      "source": [
        "def f_calc_cosine(v1, v2):\n",
        "  dotproduct = np.vdot(v1, v2)\n",
        "  v1_mag = f_calc_magnitude(v1)\n",
        "  v2_mag = f_calc_magnitude(v2)\n",
        "  cos = dotproduct/(v1_mag * v2_mag)\n",
        "  return np.round(cos,DECIMAL_PLACES)"
      ],
      "metadata": {
        "id": "kZmPQR_fAPvx"
      },
      "execution_count": 56,
      "outputs": []
    },
    {
      "cell_type": "code",
      "source": [
        "def f_cosine_similarity_for_all_users(df):\n",
        "  columns = list(df)\n",
        "  v=0\n",
        "  for i in df:\n",
        "    v=v+1\n",
        "    for j in columns[v: ]:\n",
        "      print(\"{} = {}\".format(i, list(df[i])))\n",
        "      print(\"{} = {}\".format(j, list(df[j])))\n",
        "      cosine = f_calc_cosine(df[i], df[j])\n",
        "      print(\"Cosine Similarity between {} and {} is {}\".format(i, j, cosine))\n",
        "    print(\" \")"
      ],
      "metadata": {
        "id": "kYmxHT7rIZw2"
      },
      "execution_count": 57,
      "outputs": []
    },
    {
      "cell_type": "markdown",
      "source": [
        "Cosine Similarity for Movie Recommendation"
      ],
      "metadata": {
        "id": "UF3BooiKJrGp"
      }
    },
    {
      "cell_type": "code",
      "source": [
        "def main_a():\n",
        "  df = f_readData(location, 'movie.csv')\n",
        "  print(df)\n",
        "  print(\"*******************************************************************\")\n",
        "  data = f_prepareData(df)\n",
        "  f_cosine_similarity_for_all_users(data)"
      ],
      "metadata": {
        "id": "wxJmbdt5yBB1"
      },
      "execution_count": 58,
      "outputs": []
    },
    {
      "cell_type": "markdown",
      "source": [
        "***ANSWER***:Kate is most similar to Steven because similarity index=0.945, and\n",
        "Mary is most similar to Steven because similarity index = 0.891"
      ],
      "metadata": {
        "id": "kni-FASZKYHI"
      }
    },
    {
      "cell_type": "code",
      "source": [
        "d = main_a()"
      ],
      "metadata": {
        "colab": {
          "base_uri": "https://localhost:8080/"
        },
        "id": "IhrB38PB8t8Q",
        "outputId": "91973cc9-02d6-4aa0-e2c6-ffa40272eaa7"
      },
      "execution_count": 59,
      "outputs": [
        {
          "output_type": "stream",
          "name": "stdout",
          "text": [
            "     Name  Movie 1  Moive 2  Movie 3  Movie 4  Movie 5\n",
            "0     Bob        1        5        2        3        4\n",
            "1  Steven        2        4        3        5        1\n",
            "2  Harry         5        2        1        4        3\n",
            "3    Lary        4        3        2        1        5\n",
            "4    Mary        3        1        4        5        2\n",
            "5    Kate        2        5        4        3        1\n",
            "*******************************************************************\n",
            "Bob = [1, 5, 2, 3, 4]\n",
            "Steven = [2, 4, 3, 5, 1]\n",
            "Cosine Similarity between Bob and Steven is 0.85\n",
            "Bob = [1, 5, 2, 3, 4]\n",
            "Harry  = [5, 2, 1, 4, 3]\n",
            "Cosine Similarity between Bob and Harry  is 0.75\n",
            "Bob = [1, 5, 2, 3, 4]\n",
            "Lary = [4, 3, 2, 1, 5]\n",
            "Cosine Similarity between Bob and Lary is 0.84\n",
            "Bob = [1, 5, 2, 3, 4]\n",
            "Mary = [3, 1, 4, 5, 2]\n",
            "Cosine Similarity between Bob and Mary is 0.71\n",
            "Bob = [1, 5, 2, 3, 4]\n",
            "Kate = [2, 5, 4, 3, 1]\n",
            "Cosine Similarity between Bob and Kate is 0.87\n",
            " \n",
            "Steven = [2, 4, 3, 5, 1]\n",
            "Harry  = [5, 2, 1, 4, 3]\n",
            "Cosine Similarity between Steven and Harry  is 0.8\n",
            "Steven = [2, 4, 3, 5, 1]\n",
            "Lary = [4, 3, 2, 1, 5]\n",
            "Cosine Similarity between Steven and Lary is 0.65\n",
            "Steven = [2, 4, 3, 5, 1]\n",
            "Mary = [3, 1, 4, 5, 2]\n",
            "Cosine Similarity between Steven and Mary is 0.89\n",
            "Steven = [2, 4, 3, 5, 1]\n",
            "Kate = [2, 5, 4, 3, 1]\n",
            "Cosine Similarity between Steven and Kate is 0.95\n",
            " \n",
            "Harry  = [5, 2, 1, 4, 3]\n",
            "Lary = [4, 3, 2, 1, 5]\n",
            "Cosine Similarity between Harry  and Lary is 0.85\n",
            "Harry  = [5, 2, 1, 4, 3]\n",
            "Mary = [3, 1, 4, 5, 2]\n",
            "Cosine Similarity between Harry  and Mary is 0.85\n",
            "Harry  = [5, 2, 1, 4, 3]\n",
            "Kate = [2, 5, 4, 3, 1]\n",
            "Cosine Similarity between Harry  and Kate is 0.71\n",
            " \n",
            "Lary = [4, 3, 2, 1, 5]\n",
            "Mary = [3, 1, 4, 5, 2]\n",
            "Cosine Similarity between Lary and Mary is 0.69\n",
            "Lary = [4, 3, 2, 1, 5]\n",
            "Kate = [2, 5, 4, 3, 1]\n",
            "Cosine Similarity between Lary and Kate is 0.71\n",
            " \n",
            "Mary = [3, 1, 4, 5, 2]\n",
            "Kate = [2, 5, 4, 3, 1]\n",
            "Cosine Similarity between Mary and Kate is 0.8\n",
            " \n",
            " \n"
          ]
        }
      ]
    },
    {
      "cell_type": "markdown",
      "source": [
        "Non-negative matrix factorization(NMF) for movie recommendation"
      ],
      "metadata": {
        "id": "2umDfarSKGBy"
      }
    },
    {
      "cell_type": "code",
      "source": [
        "def main_b():\n",
        "  df = f_readData(location, 'movie.csv')\n",
        "  name=list(df['Name'])\n",
        "  data = df.drop(columns=['Name'])\n",
        "  model = NMF(n_components=1, init='random', random_state=42)\n",
        "  W = model.fit_transform(data)\n",
        "  H = model.components_\n",
        "  P = np.dot(W, H)\n",
        "  print(\"********************************Weight********************************************\")\n",
        "  print(W.round(DECIMAL_PLACES))\n",
        "  print(\"********************************Height*******************************************\")\n",
        "  print(H.round(DECIMAL_PLACES))\n",
        "  df_p = pd.DataFrame(P, index=name, columns=['Movie 1','Movie 2','Movie 3', 'Movie 4', 'Movie 5'])\n",
        "  print(\"***********************************************************************************\")\n",
        "  print(df_p.round(DECIMAL_PLACES))\n",
        "  print(\"***********************************Frobenius norm**********************************\")\n",
        "  print(\"Frobenius norm:-\", model.reconstruction_err_)\n",
        "  print(\"***********************************End**********************************************\")"
      ],
      "metadata": {
        "id": "SJH7gqHBHsZE"
      },
      "execution_count": 60,
      "outputs": []
    },
    {
      "cell_type": "code",
      "source": [
        "main_b()"
      ],
      "metadata": {
        "id": "Ibg-dZIQYVGT",
        "colab": {
          "base_uri": "https://localhost:8080/"
        },
        "outputId": "f9cdb5de-e322-4925-a0b1-3b49be79545e"
      },
      "execution_count": 61,
      "outputs": [
        {
          "output_type": "stream",
          "name": "stdout",
          "text": [
            "********************************Weight********************************************\n",
            "[[1.89]\n",
            " [1.94]\n",
            " [1.86]\n",
            " [1.78]\n",
            " [1.86]\n",
            " [1.9 ]]\n",
            "********************************Height*******************************************\n",
            "[[1.5  1.79 1.43 1.89 1.41]]\n",
            "***********************************************************************************\n",
            "        Movie 1  Movie 2  Movie 3  Movie 4  Movie 5\n",
            "Bob        2.83     3.38     2.70     3.55     2.66\n",
            "Steven     2.91     3.47     2.77     3.65     2.73\n",
            "Harry      2.80     3.33     2.66     3.51     2.62\n",
            "Lary       2.67     3.18     2.54     3.35     2.50\n",
            "Mary       2.80     3.33     2.66     3.51     2.62\n",
            "Kate       2.85     3.40     2.71     3.57     2.67\n",
            "***********************************Frobenius norm**********************************\n",
            "Frobenius norm:- 7.493800675221321\n",
            "***********************************End**********************************************\n"
          ]
        }
      ]
    }
  ]
}