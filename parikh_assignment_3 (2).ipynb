{
  "nbformat": 4,
  "nbformat_minor": 0,
  "metadata": {
    "colab": {
      "provenance": [],
      "collapsed_sections": []
    },
    "kernelspec": {
      "name": "python3",
      "display_name": "Python 3"
    },
    "language_info": {
      "name": "python"
    }
  },
  "cells": [
    {
      "cell_type": "code",
      "source": [
        "# Himani Parikh\n",
        "# 10/08/2022\n",
        "# Class Assignment 3\n",
        "#Produce sparse shingles binary matrix and then create the the minHash Signature for the 3 documents Using Hash Functions or Using 3 permutations of Pi.\n",
        "\n",
        "# Revision History\n",
        "# scl   10/06/2022    Initial Version\n",
        "# scl   10/15/2022    Refactor "
      ],
      "metadata": {
        "id": "vUDyd_xQ4rF2"
      },
      "execution_count": 436,
      "outputs": []
    },
    {
      "cell_type": "code",
      "execution_count": 437,
      "metadata": {
        "id": "7ivclY7hpMZJ"
      },
      "outputs": [],
      "source": [
        "import numpy as np\n",
        "import pandas as pd\n",
        "import random"
      ]
    },
    {
      "cell_type": "code",
      "source": [
        "s1 =\"the plane was ready for touch down\"\n",
        "s2 =\"the quarterback scored a touchdown\"\n",
        "s3 =\"makes you want to move your dancing feet\"\n",
        "k_shingle = 5 \n",
        "corpus = [s1, s2, s3]"
      ],
      "metadata": {
        "id": "HFLkyPW-I7v3"
      },
      "execution_count": 438,
      "outputs": []
    },
    {
      "cell_type": "code",
      "source": [
        "# 1) Shingling: Convert documents to sets\n",
        "\n",
        "def f_shingles(string, k):\n",
        "  shingle = []\n",
        "  for i in range(len(string) - k + 1):\n",
        "    shingle.append(string[i:i+k])\n",
        "  return set(shingle)"
      ],
      "metadata": {
        "id": "RysE8JBYJFvp"
      },
      "execution_count": 439,
      "outputs": []
    },
    {
      "cell_type": "code",
      "source": [
        "def f_cleanDocument(d):\n",
        "  doc = d\n",
        "  from string import digits, punctuation\n",
        "  doc = doc.lower()\n",
        "  doc = doc.replace('\\n', ' ')\n",
        "  doc = doc.translate(str.maketrans('', '',punctuation))\n",
        "  remove_digits = str.maketrans('', '', digits)\n",
        "  doc = doc.translate(remove_digits)\n",
        "  return doc"
      ],
      "metadata": {
        "id": "0m_OrLdPVB10"
      },
      "execution_count": 440,
      "outputs": []
    },
    {
      "cell_type": "code",
      "source": [
        "def f_calcTermFrequency(df, t, id):\n",
        "  c = []\n",
        "  t = list(t)\n",
        "  for word in df['shingle'].values:\n",
        "    c.append(t.count(word))\n",
        "  df['shingle'+'_'+id] = c\n",
        "  return df"
      ],
      "metadata": {
        "id": "wNKKqUGhVM2a"
      },
      "execution_count": 441,
      "outputs": []
    },
    {
      "cell_type": "code",
      "source": [
        "def f_matrix(text, elements):\n",
        "  matrix = []\n",
        "  for x in elements:\n",
        "    if x in text:\n",
        "      matrix.append(1)\n",
        "    else:\n",
        "      matrix.append(0)\n",
        "  return matrix"
      ],
      "metadata": {
        "id": "1d2KevDJXE6y"
      },
      "execution_count": 442,
      "outputs": []
    },
    {
      "cell_type": "code",
      "source": [
        "def f_minhash(df):\n",
        "  h1_list = []\n",
        "  h2_list = []\n",
        "  h3_list = []\n",
        "  \n",
        "  for x in range (len(df)):\n",
        "     h1_list.append(((5*x) + 2) % len(df))\n",
        "     h2_list.append(((3*x) + 1) % len(df))\n",
        "     h3_list.append(((2*x) + 4) % len(df))\n",
        "    \n",
        "  df['h1'] = h1_list \n",
        "  df['h2'] = h2_list\n",
        "  df['h3'] = h3_list\n",
        "  return df"
      ],
      "metadata": {
        "id": "W0djmClMcUDj"
      },
      "execution_count": 443,
      "outputs": []
    },
    {
      "cell_type": "code",
      "source": [
        "def f_signatures(df,df_sig):\n",
        "  print(df_sig.head())\n",
        "  print(df.head())\n",
        "  for i in df.index:\n",
        "    for j in range(1, 4):\n",
        "      if df.loc[i,'shingle_'+str(j)] > 0:\n",
        "        for p in range(1, 4):\n",
        "          if df_sig.loc['h'+str(p),'s'+str(j)] > df.loc[i,'h'+str(p)]:\n",
        "            df_sig.loc['h'+str(p),'s'+str(j)] = df.loc[i,'h'+str(p)]\n",
        "  return df_sig"
      ],
      "metadata": {
        "id": "GkdPL_2mh2TU"
      },
      "execution_count": 444,
      "outputs": []
    },
    {
      "cell_type": "code",
      "source": [
        "def main():\n",
        "  universal_set = set()\n",
        "  # first pass\n",
        "  for document in corpus:\n",
        "    shingle_set = f_shingles(document, k_shingle)\n",
        "    universal_set.update(shingle_set)\n",
        "  df_universal = pd.DataFrame(universal_set,columns=['shingle'])\n",
        "\n",
        "  # second pass\n",
        "  doc_id = 0\n",
        "  for document in corpus:\n",
        "    doc_id      += 1\n",
        "    clean_doc   = f_cleanDocument(document)\n",
        "    shingle_set = f_shingles(clean_doc, k_shingle)\n",
        "    tfreq  = f_calcTermFrequency(df_universal,shingle_set,str(doc_id))\n",
        "  \n",
        "  # # Next minHash but permutation with basic hash functions h1 and h2\n",
        "  df_minHash = f_minhash(df_universal)\n",
        "\n",
        "  # # Next compute the minHash Signature\n",
        "  N = len(corpus) # N Documents\n",
        "  h = 3 # h hashs functions for permutations\n",
        "  np_signature  = np.zeros((h, N), dtype=int)\n",
        "  df_signature  = pd.DataFrame(np_signature,columns=['s1','s2','s3'], index=['h1','h2','h3'])\n",
        "  df_signature  = df_signature.replace(0,99999)\n",
        "  df_minHashSig = f_signatures(df_minHash, df_signature)\n",
        "\n",
        "  return df_universal, df_minHash, df_minHashSig"
      ],
      "metadata": {
        "id": "azZPOp7mC5fI"
      },
      "execution_count": 445,
      "outputs": []
    },
    {
      "cell_type": "code",
      "source": [
        "universal, minHash, minHashSig = main()\n",
        "minHashSig"
      ],
      "metadata": {
        "colab": {
          "base_uri": "https://localhost:8080/",
          "height": 328
        },
        "id": "HHOcgqHjaeZP",
        "outputId": "b2446d98-a406-4eea-f61c-0bd866564800"
      },
      "execution_count": 446,
      "outputs": [
        {
          "output_type": "stream",
          "name": "stdout",
          "text": [
            "       s1     s2     s3\n",
            "h1  99999  99999  99999\n",
            "h2  99999  99999  99999\n",
            "h3  99999  99999  99999\n",
            "  shingle  shingle_1  shingle_2  shingle_3  h1  h2  h3\n",
            "0    plan          1          0          0   2   1   4\n",
            "1   o mov          0          0          1   7   4   6\n",
            "2   k sco          0          1          0  12   7   8\n",
            "3    scor          0          1          0  17  10  10\n",
            "4   e was          1          0          0  22  13  12\n"
          ]
        },
        {
          "output_type": "execute_result",
          "data": {
            "text/plain": [
              "    s1  s2  s3\n",
              "h1   2   0   5\n",
              "h2   0   2   4\n",
              "h3   2   4   0"
            ],
            "text/html": [
              "\n",
              "  <div id=\"df-b811a3e9-933f-4fc3-b2cf-d44279e831e0\">\n",
              "    <div class=\"colab-df-container\">\n",
              "      <div>\n",
              "<style scoped>\n",
              "    .dataframe tbody tr th:only-of-type {\n",
              "        vertical-align: middle;\n",
              "    }\n",
              "\n",
              "    .dataframe tbody tr th {\n",
              "        vertical-align: top;\n",
              "    }\n",
              "\n",
              "    .dataframe thead th {\n",
              "        text-align: right;\n",
              "    }\n",
              "</style>\n",
              "<table border=\"1\" class=\"dataframe\">\n",
              "  <thead>\n",
              "    <tr style=\"text-align: right;\">\n",
              "      <th></th>\n",
              "      <th>s1</th>\n",
              "      <th>s2</th>\n",
              "      <th>s3</th>\n",
              "    </tr>\n",
              "  </thead>\n",
              "  <tbody>\n",
              "    <tr>\n",
              "      <th>h1</th>\n",
              "      <td>2</td>\n",
              "      <td>0</td>\n",
              "      <td>5</td>\n",
              "    </tr>\n",
              "    <tr>\n",
              "      <th>h2</th>\n",
              "      <td>0</td>\n",
              "      <td>2</td>\n",
              "      <td>4</td>\n",
              "    </tr>\n",
              "    <tr>\n",
              "      <th>h3</th>\n",
              "      <td>2</td>\n",
              "      <td>4</td>\n",
              "      <td>0</td>\n",
              "    </tr>\n",
              "  </tbody>\n",
              "</table>\n",
              "</div>\n",
              "      <button class=\"colab-df-convert\" onclick=\"convertToInteractive('df-b811a3e9-933f-4fc3-b2cf-d44279e831e0')\"\n",
              "              title=\"Convert this dataframe to an interactive table.\"\n",
              "              style=\"display:none;\">\n",
              "        \n",
              "  <svg xmlns=\"http://www.w3.org/2000/svg\" height=\"24px\"viewBox=\"0 0 24 24\"\n",
              "       width=\"24px\">\n",
              "    <path d=\"M0 0h24v24H0V0z\" fill=\"none\"/>\n",
              "    <path d=\"M18.56 5.44l.94 2.06.94-2.06 2.06-.94-2.06-.94-.94-2.06-.94 2.06-2.06.94zm-11 1L8.5 8.5l.94-2.06 2.06-.94-2.06-.94L8.5 2.5l-.94 2.06-2.06.94zm10 10l.94 2.06.94-2.06 2.06-.94-2.06-.94-.94-2.06-.94 2.06-2.06.94z\"/><path d=\"M17.41 7.96l-1.37-1.37c-.4-.4-.92-.59-1.43-.59-.52 0-1.04.2-1.43.59L10.3 9.45l-7.72 7.72c-.78.78-.78 2.05 0 2.83L4 21.41c.39.39.9.59 1.41.59.51 0 1.02-.2 1.41-.59l7.78-7.78 2.81-2.81c.8-.78.8-2.07 0-2.86zM5.41 20L4 18.59l7.72-7.72 1.47 1.35L5.41 20z\"/>\n",
              "  </svg>\n",
              "      </button>\n",
              "      \n",
              "  <style>\n",
              "    .colab-df-container {\n",
              "      display:flex;\n",
              "      flex-wrap:wrap;\n",
              "      gap: 12px;\n",
              "    }\n",
              "\n",
              "    .colab-df-convert {\n",
              "      background-color: #E8F0FE;\n",
              "      border: none;\n",
              "      border-radius: 50%;\n",
              "      cursor: pointer;\n",
              "      display: none;\n",
              "      fill: #1967D2;\n",
              "      height: 32px;\n",
              "      padding: 0 0 0 0;\n",
              "      width: 32px;\n",
              "    }\n",
              "\n",
              "    .colab-df-convert:hover {\n",
              "      background-color: #E2EBFA;\n",
              "      box-shadow: 0px 1px 2px rgba(60, 64, 67, 0.3), 0px 1px 3px 1px rgba(60, 64, 67, 0.15);\n",
              "      fill: #174EA6;\n",
              "    }\n",
              "\n",
              "    [theme=dark] .colab-df-convert {\n",
              "      background-color: #3B4455;\n",
              "      fill: #D2E3FC;\n",
              "    }\n",
              "\n",
              "    [theme=dark] .colab-df-convert:hover {\n",
              "      background-color: #434B5C;\n",
              "      box-shadow: 0px 1px 3px 1px rgba(0, 0, 0, 0.15);\n",
              "      filter: drop-shadow(0px 1px 2px rgba(0, 0, 0, 0.3));\n",
              "      fill: #FFFFFF;\n",
              "    }\n",
              "  </style>\n",
              "\n",
              "      <script>\n",
              "        const buttonEl =\n",
              "          document.querySelector('#df-b811a3e9-933f-4fc3-b2cf-d44279e831e0 button.colab-df-convert');\n",
              "        buttonEl.style.display =\n",
              "          google.colab.kernel.accessAllowed ? 'block' : 'none';\n",
              "\n",
              "        async function convertToInteractive(key) {\n",
              "          const element = document.querySelector('#df-b811a3e9-933f-4fc3-b2cf-d44279e831e0');\n",
              "          const dataTable =\n",
              "            await google.colab.kernel.invokeFunction('convertToInteractive',\n",
              "                                                     [key], {});\n",
              "          if (!dataTable) return;\n",
              "\n",
              "          const docLinkHtml = 'Like what you see? Visit the ' +\n",
              "            '<a target=\"_blank\" href=https://colab.research.google.com/notebooks/data_table.ipynb>data table notebook</a>'\n",
              "            + ' to learn more about interactive tables.';\n",
              "          element.innerHTML = '';\n",
              "          dataTable['output_type'] = 'display_data';\n",
              "          await google.colab.output.renderOutput(dataTable, element);\n",
              "          const docLink = document.createElement('div');\n",
              "          docLink.innerHTML = docLinkHtml;\n",
              "          element.appendChild(docLink);\n",
              "        }\n",
              "      </script>\n",
              "    </div>\n",
              "  </div>\n",
              "  "
            ]
          },
          "metadata": {},
          "execution_count": 446
        }
      ]
    }
  ]
}